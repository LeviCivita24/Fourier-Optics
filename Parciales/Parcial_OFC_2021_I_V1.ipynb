{
  "nbformat": 4,
  "nbformat_minor": 5,
  "metadata": {
    "kernelspec": {
      "display_name": "Python 3",
      "language": "python",
      "name": "python3"
    },
    "language_info": {
      "codemirror_mode": {
        "name": "ipython",
        "version": 3
      },
      "file_extension": ".py",
      "mimetype": "text/x-python",
      "name": "python",
      "nbconvert_exporter": "python",
      "pygments_lexer": "ipython3",
      "version": "3.8.5"
    },
    "colab": {
      "name": "Parcial OFC-2021-I-V1.ipynb",
      "provenance": []
    }
  },
  "cells": [
    {
      "cell_type": "markdown",
      "metadata": {
        "id": "polar-unknown"
      },
      "source": [
        "# **Examen parcial. Óptica de Fourier Computacional** \n",
        "## 2021-1\n",
        "### Docentes: Dr. Walter Torres Sepulveda, Dr. Alejandro Velez Zea"
      ],
      "id": "polar-unknown"
    },
    {
      "cell_type": "markdown",
      "metadata": {
        "id": "backed-jordan"
      },
      "source": [
        "#**Punto 1:** \n",
        "\n",
        "Demuestre la siguiente propiedad de la transformada de Fourier, donde $G(f_{x},f_{y})=\\mathcal{F}\\{g(x,y)\\}$, y $\\mathcal{F}\\{\\cdot\\}$ representa el operador Transformada de Fourier \n",
        "\n",
        "\\begin{align*}\n",
        "\\mathcal{F}\\left\\{ \\nabla^{2}g(x,y)\\right\\} =-4\\pi^{2}\\left(f_{x}^{2}+f_{y}^{2}\\right)G(f_{x},f_{y})\n",
        "\\end{align*}"
      ],
      "id": "backed-jordan"
    },
    {
      "cell_type": "markdown",
      "metadata": {
        "id": "iraqi-shuttle"
      },
      "source": [
        "#**Punto 2:** \n",
        "\n",
        "Para la siguiente función\n",
        "\n",
        "\\begin{align*}\n",
        "g(x,y)=\\text{rect}\\left(\\frac{x}{a}\\right)\\text{rect}\\left(\\frac{y}{b}\\right)\\cos\\left(\\omega_{0}x\\right)\n",
        "\\end{align*}\n",
        "donde $\\omega_{0}=2\\pi f_{0}$. Calcular:\n",
        "\n",
        "a) La forma analitica para el tamaño del soporte en ambas direcciones\n",
        "\n",
        "b) El intervalo de muestreo en ambas direcciones si se desea muestrear la función con un tamaño de 500 muestras en ambas direcciones.\n",
        "\n",
        "c) Su transformada de Fourier analítica y computacional. Grafique la amplitud analítica y computacional en una sola dimensión ($f_x$) para comparar. Para graficar, asígnele valores a las constantes tal que se cumplan las condiciones de muestreo y asegurando que existan 20 ciclos del coseno dentro del soporte de la función\n"
      ],
      "id": "iraqi-shuttle"
    },
    {
      "cell_type": "markdown",
      "metadata": {
        "id": "conceptual-delight"
      },
      "source": [
        "#**Punto 3:** \n",
        "#### Dada una red de difracción de la forma \n",
        "\n",
        "\\begin{align*}\n",
        "f(x,y)=\\text{rect}\\left(\\frac{y}{a}\\right)\\left\\{ \\sum_{n=-5}^{5}\\text{rect}\\left(\\frac{x-nb}{0.5b}\\right)\\right\\} \n",
        "\\end{align*}\n",
        "\n",
        "#### a) Determine el tamaño del soporte en ambas direcciones.\n",
        "#### b) Sea $a=0.2m, b=0.02m , \\lambda=532nm,$ y $M=500 $, asígnele valores al tamaño del espacio, las constantes y el intervalo de muestreo que satisfagan las condiciones para realizar la transformada rapida de Fourier, grafique la funcion $f(x,y)$ y calcule cual sera la distancia critica de propagacion dados estos valores.\n",
        "#### c) Calcule y grafique la intensidad del campo $f(x,y)$ tras ser propagado distancias iguales a 0.1, 0.5, 1, 5, 100 veces la distancia critica. Eliga el propagador adecuado en cada caso.\n",
        "#### d) Calcule la energia total en el patrón de difracción de Fraunhoffer de la red. Calcule que porcentaje de energía le corresponde al orden central y los dos primeros máximos laterales del patron. (Tomar el ancho de cada maximo como la distancia que comprenden 3 muestras a cada lado del pico respectivo)"
      ],
      "id": "conceptual-delight"
    },
    {
      "cell_type": "markdown",
      "metadata": {
        "id": "rural-decision"
      },
      "source": [
        "#**Punto 4:** \n",
        "Considere un objeto con una transmitancia en amplitud dada por la función\n",
        "\\begin{align*}\n",
        "t_{A}(x,y)=\\frac{1}{2}\\left[1+m\\cos\\left(\\frac{2\\pi x}{L}\\right)\\right]\n",
        "\\end{align*}\n",
        "Asumiendo $L=1$ mm y $m=1$, calcule analíticamente y computacionalmente\n",
        "la distribución de intensidad que se obtiene a distancias \n",
        "\n",
        "\\begin{align*}\n",
        "z_1=\\frac{2nL^{2}}{\\lambda},\\;z_2=\\frac{(2n+1)L^{2}}{\\lambda}\\;\\text{y}\\;z_3=\\frac{(n-1/2)L^{2}}{\\lambda}\n",
        "\\end{align*}\n",
        "\n",
        "donde $n$ es un entero, suponga que dicha transmitancia se ilumina\n",
        "con una onda plana, incidencia normal y de amplitud unitaria con longitud de onda $\\lambda=500$ nm. Compare y analice los resultados analíticos y las respectivas simulaciones computacionales con el perfil de intensidad de la red en el plano $z=0$. Justifique los parámetros computacionales que use para las simulaciones (como el intervalo de muestreo y el numero de muestras). Presente para cada $z_i$ gráficas con dos valores de $n$ distintos.\n",
        "\n",
        "***Ayuda:*** para el cálculo analítico use la aproximación de convolución con la función de transferencia en la aproximación de Fresnel, omitiendo el factor de fase constante. Recuerde la representacion de la función coseno en términos de exponenciales.\n",
        "\n",
        "## Nota: Todas las transformadas, propiedades y condiciones que se encuentran demostradas en los libros guias del curso pueden usarlas sin necesidad de repetir la demonstración pero citando la pagina y/o numero de ecuación donde se encuentra."
      ],
      "id": "rural-decision"
    },
    {
      "cell_type": "code",
      "metadata": {
        "id": "wound-siemens"
      },
      "source": [
        ""
      ],
      "id": "wound-siemens",
      "execution_count": null,
      "outputs": []
    }
  ]
}