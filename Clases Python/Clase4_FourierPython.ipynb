{
  "nbformat": 4,
  "nbformat_minor": 5,
  "metadata": {
    "kernelspec": {
      "display_name": "Python 3",
      "language": "python",
      "name": "python3"
    },
    "language_info": {
      "codemirror_mode": {
        "name": "ipython",
        "version": 3
      },
      "file_extension": ".py",
      "mimetype": "text/x-python",
      "name": "python",
      "nbconvert_exporter": "python",
      "pygments_lexer": "ipython3",
      "version": "3.8.5"
    },
    "colab": {
      "name": "FourierPython.ipynb",
      "provenance": [],
      "collapsed_sections": [
        "medieval-relation",
        "stuck-exposure",
        "quality-valuable",
        "guided-transsexual"
      ]
    }
  },
  "cells": [
    {
      "cell_type": "markdown",
      "metadata": {
        "id": "organic-tours"
      },
      "source": [
        "# Computación de la transformada de Fourier en Python"
      ],
      "id": "organic-tours"
    },
    {
      "cell_type": "markdown",
      "metadata": {
        "id": "negative-chance"
      },
      "source": [
        "\n",
        "### Espacio de nombres\n",
        "Las librerias de python contienen funciones, agrupadas en modulos. Algunas de estas funciones tienen el mismo nombre. Para evitar conflictos, al llamar una libreria o modulo, se le puede asignar un alias. \n",
        "Ejemplo\n"
      ],
      "id": "negative-chance"
    },
    {
      "cell_type": "code",
      "metadata": {
        "colab": {
          "base_uri": "https://localhost:8080/"
        },
        "id": "smart-thompson",
        "outputId": "d12ce432-32c8-4d93-aa0f-8d53d7d3c9ea"
      },
      "source": [
        "from numpy import *# importa todas las funciones de numpy sin definir un espacio de nombres. NO USAR\n",
        "\n",
        "linspace(1,2,10) #linspace es una funcion de numpy y se llama por su nombre"
      ],
      "id": "smart-thompson",
      "execution_count": null,
      "outputs": [
        {
          "output_type": "execute_result",
          "data": {
            "text/plain": [
              "array([1.        , 1.11111111, 1.22222222, 1.33333333, 1.44444444,\n",
              "       1.55555556, 1.66666667, 1.77777778, 1.88888889, 2.        ])"
            ]
          },
          "metadata": {
            "tags": []
          },
          "execution_count": 4
        }
      ]
    },
    {
      "cell_type": "markdown",
      "metadata": {
        "id": "protective-reynolds"
      },
      "source": [
        "Se recomienda importar usando un espacio de nombres. Reseteemos nuestro kernel de python y probemos."
      ],
      "id": "protective-reynolds"
    },
    {
      "cell_type": "code",
      "metadata": {
        "colab": {
          "base_uri": "https://localhost:8080/"
        },
        "id": "proved-cursor",
        "outputId": "e1f2a3bb-c23a-4799-c691-a7373935e01c"
      },
      "source": [
        "import IPython\n",
        "IPython.Application.instance().kernel.do_shutdown(True) #elimina todas las variables y resetea el kernel de python."
      ],
      "id": "proved-cursor",
      "execution_count": null,
      "outputs": [
        {
          "output_type": "execute_result",
          "data": {
            "text/plain": [
              "{'restart': True, 'status': 'ok'}"
            ]
          },
          "metadata": {
            "tags": []
          },
          "execution_count": 5
        }
      ]
    },
    {
      "cell_type": "markdown",
      "metadata": {
        "id": "center-biology"
      },
      "source": [
        "Una mejor forma de importar es"
      ],
      "id": "center-biology"
    },
    {
      "cell_type": "code",
      "metadata": {
        "colab": {
          "base_uri": "https://localhost:8080/"
        },
        "id": "electoral-distributor",
        "outputId": "ae78ccb5-6ced-4417-d5dd-78aef26455d6"
      },
      "source": [
        "import numpy  #importa todas las funciones de numpy bajo el espacio de nombres numpy\n",
        "numpy.linspace(1,2,10) #linspace es una funcion de numpy y para \n",
        "                       #llamarla tenemos que escribir a que espacio de nombres pertenece"
      ],
      "id": "electoral-distributor",
      "execution_count": null,
      "outputs": [
        {
          "output_type": "execute_result",
          "data": {
            "text/plain": [
              "array([1.        , 1.11111111, 1.22222222, 1.33333333, 1.44444444,\n",
              "       1.55555556, 1.66666667, 1.77777778, 1.88888889, 2.        ])"
            ]
          },
          "metadata": {
            "tags": []
          },
          "execution_count": 1
        }
      ]
    },
    {
      "cell_type": "markdown",
      "metadata": {
        "id": "valuable-chapter"
      },
      "source": [
        "Podemos cambiar los espacios de nombre importandolos con un alias."
      ],
      "id": "valuable-chapter"
    },
    {
      "cell_type": "code",
      "metadata": {
        "colab": {
          "base_uri": "https://localhost:8080/"
        },
        "id": "ambient-worth",
        "outputId": "85a421c5-8aee-4166-ad43-33c51f4c39e2"
      },
      "source": [
        "import IPython\n",
        "IPython.Application.instance().kernel.do_shutdown(True) #elimina todas las variables y resetea el kernel de python.\n",
        "\n",
        "import numpy as np #importa todas las funciones de numpy bajo el espacio de nombres np\n",
        "np.linspace(1,2,10)"
      ],
      "id": "ambient-worth",
      "execution_count": null,
      "outputs": [
        {
          "output_type": "execute_result",
          "data": {
            "text/plain": [
              "array([1.        , 1.11111111, 1.22222222, 1.33333333, 1.44444444,\n",
              "       1.55555556, 1.66666667, 1.77777778, 1.88888889, 2.        ])"
            ]
          },
          "metadata": {
            "tags": []
          },
          "execution_count": 2
        }
      ]
    },
    {
      "cell_type": "markdown",
      "metadata": {
        "id": "defined-detection"
      },
      "source": [
        "### Arreglos\n",
        "\n",
        "Los arreglos de numpy permiten computacion de alta eficiencia. Para crear un array hacemos"
      ],
      "id": "defined-detection"
    },
    {
      "cell_type": "code",
      "metadata": {
        "colab": {
          "base_uri": "https://localhost:8080/"
        },
        "id": "absent-specification",
        "outputId": "c381bfb6-8625-422c-cbb6-a6dfe7fe5cd5"
      },
      "source": [
        "import IPython\n",
        "IPython.Application.instance().kernel.do_shutdown(True) #elimina todas las variables y resetea el kernel de python."
      ],
      "id": "absent-specification",
      "execution_count": null,
      "outputs": [
        {
          "output_type": "execute_result",
          "data": {
            "text/plain": [
              "{'restart': True, 'status': 'ok'}"
            ]
          },
          "metadata": {
            "tags": []
          },
          "execution_count": 1
        }
      ]
    },
    {
      "cell_type": "code",
      "metadata": {
        "colab": {
          "base_uri": "https://localhost:8080/"
        },
        "id": "instrumental-commitment",
        "outputId": "c2f5c1b9-cd79-4eb6-8dfa-aef5f794fc5f"
      },
      "source": [
        "import numpy as np\n",
        "\n",
        "a=np.array([1,3,54,23]) #Los elementos en una dimension estan separados por , y entre corchetes\n",
        "print('a=',a)\n",
        "\n",
        "b=np.array([[1,3,54],[12,2,4]]) #Las dimensiones adicionales estan separadas por coma, y tambien entre corchetes\n",
        "print('b=',b)"
      ],
      "id": "instrumental-commitment",
      "execution_count": null,
      "outputs": [
        {
          "output_type": "stream",
          "text": [
            "a= [ 1  3 54 23]\n",
            "b= [[ 1  3 54]\n",
            " [12  2  4]]\n"
          ],
          "name": "stdout"
        }
      ]
    },
    {
      "cell_type": "markdown",
      "metadata": {
        "id": "faced-wisdom"
      },
      "source": [
        "Las operaciones basicas (suma, resta, multiplicacion, division etc..) sobre arreglos se realizan elemento a elemento."
      ],
      "id": "faced-wisdom"
    },
    {
      "cell_type": "markdown",
      "metadata": {
        "id": "exempt-entrepreneur"
      },
      "source": [
        "Python es un lenguage de typeo dinamico. Es decir, el tipo de dato de una variable es determinado implicitamente por los datos que contiene. Esto es importante a la hora de trabajar con grandes cantidades de informacion"
      ],
      "id": "exempt-entrepreneur"
    },
    {
      "cell_type": "code",
      "metadata": {
        "colab": {
          "base_uri": "https://localhost:8080/"
        },
        "id": "handmade-philosophy",
        "outputId": "b058d839-5ea1-4f4c-9f80-0cb6f9b68081"
      },
      "source": [
        "a=np.array([1,3,54,23])\n",
        "print('tipo de dato a=',a.dtype)\n",
        "\n",
        "a=np.array([1.,3.,54.,23.])\n",
        "print('tipo de dato a=',a.dtype)\n",
        "\n",
        "a=np.array([1.+4.j,3.+4.j,54.+4.j,23.+4.j])\n",
        "print('tipo de dato a=',a.dtype)"
      ],
      "id": "handmade-philosophy",
      "execution_count": null,
      "outputs": [
        {
          "output_type": "stream",
          "text": [
            "tipo de dato a= int64\n",
            "tipo de dato a= float64\n",
            "tipo de dato a= complex128\n"
          ],
          "name": "stdout"
        }
      ]
    },
    {
      "cell_type": "markdown",
      "metadata": {
        "id": "everyday-satisfaction"
      },
      "source": [
        "El ultimo numero del tipo de dato dice cuantos bits se requiere para almacenar cada elemento. Para un numero decimal se requiere el doble de memoria que para un entero, y para un numero complejo el cuadruple!! Como para operar con campos opticos usaremos representaciones usualmente complejas, esto limita el tamaño de los arreglos que podemos usar. Multiplicar un arreglo de enteros por un decimal automaticamente convierte el arreglo entero en uno tipo float. Lo mismo ocurre al multiplicar por un complejo. De esta forma una operacion puede subitamente aumentar los requisitos de memoria de mi programa. Tener en cuenta!"
      ],
      "id": "everyday-satisfaction"
    },
    {
      "cell_type": "markdown",
      "metadata": {
        "id": "medieval-relation"
      },
      "source": [
        "### Definir funciones\n",
        "\n",
        "Para definir una funcion en python basta con usar el comando def, asi"
      ],
      "id": "medieval-relation"
    },
    {
      "cell_type": "code",
      "metadata": {
        "colab": {
          "base_uri": "https://localhost:8080/"
        },
        "id": "governmental-lyric",
        "outputId": "aa65f269-939b-45f8-abd5-b083d8217a63"
      },
      "source": [
        "def test(a,b): #El nombre de la funcion es seguido de los argumentos entre parentesis. Puede haber funciones sin\n",
        "    c=a+b      #argumentos\n",
        "    e=a        \n",
        "    return c   #return da cuenta de la salida de la funcion. Puede no tener ninguna salida.\n",
        "\n",
        "q=test(1,2)\n",
        "print(q)\n",
        "#print(e)  #Las variables denfinidas dentro de la funcion no estan expuestas al resto del programa"
      ],
      "id": "governmental-lyric",
      "execution_count": null,
      "outputs": [
        {
          "output_type": "stream",
          "text": [
            "3\n"
          ],
          "name": "stdout"
        }
      ]
    },
    {
      "cell_type": "code",
      "metadata": {
        "colab": {
          "base_uri": "https://localhost:8080/"
        },
        "id": "governing-audit",
        "outputId": "71715327-e48e-443d-e629-a9f04bd63b0f"
      },
      "source": [
        "w=2\n",
        "def test2(a,b): #Las variables definidas fuera de la funcion son visibles para la misma\n",
        "    c=a+b+w        \n",
        "    return c\n",
        "\n",
        "test2(2,3)"
      ],
      "id": "governing-audit",
      "execution_count": null,
      "outputs": [
        {
          "output_type": "execute_result",
          "data": {
            "text/plain": [
              "7"
            ]
          },
          "metadata": {
            "tags": []
          },
          "execution_count": 10
        }
      ]
    },
    {
      "cell_type": "code",
      "metadata": {
        "colab": {
          "base_uri": "https://localhost:8080/"
        },
        "id": "actual-magic",
        "outputId": "64dc5355-f8d1-48c6-cafe-fee05a523cf1"
      },
      "source": [
        "def test3(a,b): #Las variables definidas fuera de la funcion son visibles para la misma\n",
        "    a=a+2       #Se puede operar sobre los argumentos sin alterar su informacion original. \n",
        "    c=a+b       \n",
        "    return c\n",
        "a=2\n",
        "q=test3(a,3)   \n",
        "print(q,a)"
      ],
      "id": "actual-magic",
      "execution_count": null,
      "outputs": [
        {
          "output_type": "stream",
          "text": [
            "7 2\n"
          ],
          "name": "stdout"
        }
      ]
    },
    {
      "cell_type": "markdown",
      "metadata": {
        "id": "proper-sweden"
      },
      "source": [
        "### Crear vectores coordenados\n",
        "\n",
        "Existen varias formas de crear un vector con numpy. Si queremos vectores coordnados para evaluar funciones, tenenemos"
      ],
      "id": "proper-sweden"
    },
    {
      "cell_type": "code",
      "metadata": {
        "colab": {
          "base_uri": "https://localhost:8080/"
        },
        "id": "golden-olive",
        "outputId": "48c8668d-2d4f-4a49-fdce-7261879a218a"
      },
      "source": [
        "xmax=1\n",
        "xmin=-1\n",
        "muestras=10\n",
        "dx=(xmax-xmin)/(muestras-1)\n",
        "x=np.linspace(xmin,xmax,muestras) #Linspace crea un vector de valores equiespaciados con un numero de elementos igual a samples cuyo valor inicial es xmin, y el final es xmax.\n",
        "\n",
        "print(x,dx)"
      ],
      "id": "golden-olive",
      "execution_count": null,
      "outputs": [
        {
          "output_type": "stream",
          "text": [
            "[-1.         -0.77777778 -0.55555556 -0.33333333 -0.11111111  0.11111111\n",
            "  0.33333333  0.55555556  0.77777778  1.        ] 0.2222222222222222\n"
          ],
          "name": "stdout"
        }
      ]
    },
    {
      "cell_type": "code",
      "metadata": {
        "colab": {
          "base_uri": "https://localhost:8080/"
        },
        "id": "deadly-coach",
        "outputId": "9f105b06-8557-48ae-f313-7f055e9446ea"
      },
      "source": [
        "xmax=1\n",
        "xmin=-1\n",
        "dx=0.25\n",
        "x=np.arange(xmin,xmax,dx) #arange crea un vector con inicio en xmin, fin en xmax-dx e intervalo dx\n",
        "print(x,dx)"
      ],
      "id": "deadly-coach",
      "execution_count": null,
      "outputs": [
        {
          "output_type": "stream",
          "text": [
            "[-1.   -0.75 -0.5  -0.25  0.    0.25  0.5   0.75] 0.25\n"
          ],
          "name": "stdout"
        }
      ]
    },
    {
      "cell_type": "markdown",
      "metadata": {
        "id": "moral-princess"
      },
      "source": [
        "En base a estas funciones, para crear un par de vectores con coordenadas para una transformada de Fourier tendriamos\n"
      ],
      "id": "moral-princess"
    },
    {
      "cell_type": "code",
      "metadata": {
        "colab": {
          "base_uri": "https://localhost:8080/"
        },
        "id": "federal-furniture",
        "outputId": "ce2c1608-b411-4835-dc4c-e72c420fd0f8"
      },
      "source": [
        "L=10\n",
        "xmin=-10/2\n",
        "xmax=10/2\n",
        "dx=0.2\n",
        "fmax=1/(2*dx)\n",
        "fmin=-1/(2*dx)\n",
        "dfx=1/L\n",
        "x=np.arange(xmin,xmax,dx) #Vector coordenadas espaciales.\n",
        "fx=np.arange(fmin,fmax,dfx) #Vector coordenadas frecuenciales.\n",
        "print(x)\n",
        "print(fx)\n",
        "import matplotlib.pyplot as plt\n",
        "y=(np.cos(x))\n",
        "plt.plot(x,y)"
      ],
      "id": "federal-furniture",
      "execution_count": null,
      "outputs": [
        {
          "output_type": "stream",
          "text": [
            "[-5.0000000e+00 -4.8000000e+00 -4.6000000e+00 -4.4000000e+00\n",
            " -4.2000000e+00 -4.0000000e+00 -3.8000000e+00 -3.6000000e+00\n",
            " -3.4000000e+00 -3.2000000e+00 -3.0000000e+00 -2.8000000e+00\n",
            " -2.6000000e+00 -2.4000000e+00 -2.2000000e+00 -2.0000000e+00\n",
            " -1.8000000e+00 -1.6000000e+00 -1.4000000e+00 -1.2000000e+00\n",
            " -1.0000000e+00 -8.0000000e-01 -6.0000000e-01 -4.0000000e-01\n",
            " -2.0000000e-01  4.4408921e-15  2.0000000e-01  4.0000000e-01\n",
            "  6.0000000e-01  8.0000000e-01  1.0000000e+00  1.2000000e+00\n",
            "  1.4000000e+00  1.6000000e+00  1.8000000e+00  2.0000000e+00\n",
            "  2.2000000e+00  2.4000000e+00  2.6000000e+00  2.8000000e+00\n",
            "  3.0000000e+00  3.2000000e+00  3.4000000e+00  3.6000000e+00\n",
            "  3.8000000e+00  4.0000000e+00  4.2000000e+00  4.4000000e+00\n",
            "  4.6000000e+00  4.8000000e+00]\n",
            "[-2.50000000e+00 -2.40000000e+00 -2.30000000e+00 -2.20000000e+00\n",
            " -2.10000000e+00 -2.00000000e+00 -1.90000000e+00 -1.80000000e+00\n",
            " -1.70000000e+00 -1.60000000e+00 -1.50000000e+00 -1.40000000e+00\n",
            " -1.30000000e+00 -1.20000000e+00 -1.10000000e+00 -1.00000000e+00\n",
            " -9.00000000e-01 -8.00000000e-01 -7.00000000e-01 -6.00000000e-01\n",
            " -5.00000000e-01 -4.00000000e-01 -3.00000000e-01 -2.00000000e-01\n",
            " -1.00000000e-01  2.22044605e-15  1.00000000e-01  2.00000000e-01\n",
            "  3.00000000e-01  4.00000000e-01  5.00000000e-01  6.00000000e-01\n",
            "  7.00000000e-01  8.00000000e-01  9.00000000e-01  1.00000000e+00\n",
            "  1.10000000e+00  1.20000000e+00  1.30000000e+00  1.40000000e+00\n",
            "  1.50000000e+00  1.60000000e+00  1.70000000e+00  1.80000000e+00\n",
            "  1.90000000e+00  2.00000000e+00  2.10000000e+00  2.20000000e+00\n",
            "  2.30000000e+00  2.40000000e+00]\n"
          ],
          "name": "stdout"
        },
        {
          "output_type": "execute_result",
          "data": {
            "text/plain": [
              "[<matplotlib.lines.Line2D at 0x7f5d7b88ef10>]"
            ]
          },
          "metadata": {
            "tags": []
          },
          "execution_count": 14
        },
        {
          "output_type": "display_data",
          "data": {
            "image/png": "[encoded data removed]",
            "text/plain": [
              "<Figure size 432x288 with 1 Axes>"
            ]
          },
          "metadata": {
            "tags": [],
            "needs_background": "light"
          }
        }
      ]
    },
    {
      "cell_type": "markdown",
      "metadata": {
        "id": "global-parcel"
      },
      "source": [
        "Para crear espacios coordenados en dos dimensiones, usamos meshgrid"
      ],
      "id": "global-parcel"
    },
    {
      "cell_type": "code",
      "metadata": {
        "colab": {
          "base_uri": "https://localhost:8080/"
        },
        "id": "cooperative-oxford",
        "outputId": "faee62c8-44b9-47f2-9b07-392641de48f5"
      },
      "source": [
        "Lx=10\n",
        "dx=0.02\n",
        "xmin=-Lx/2\n",
        "xmax=Lx/2\n",
        "fxmax=1/(2*dx)\n",
        "fxmin=-1/(2*dx)\n",
        "dfx=1/Lx\n",
        "\n",
        "\n",
        "Ly=10\n",
        "dy=0.02\n",
        "ymin=-Ly/2\n",
        "ymax=Ly/2\n",
        "fymax=1/(2*dy)\n",
        "fymin=-1/(2*dy)\n",
        "dfy=1/L\n",
        "\n",
        "x=np.arange(xmin,xmax,dx)\n",
        "y=np.arange(ymin,ymax,dy)\n",
        "\n",
        "xx, yy=np.meshgrid(x,y)\n",
        "\n",
        "fx=np.arange(fxmin,fxmax,dfx) \n",
        "fy=np.arange(fymin,fymax,dfy) \n",
        "\n",
        "fxx, fyy=np.meshgrid(fx,fy)\n",
        "\n",
        "\n",
        "z=np.sin(xx**2+yy**2)/(xx**2 + yy**2)\n",
        "h = plt.contourf(x,y,z)\n",
        "plt.show()"
      ],
      "id": "cooperative-oxford",
      "execution_count": null,
      "outputs": [
        {
          "output_type": "display_data",
          "data": {
            "image/png": "[encoded data removed]",
            "text/plain": [
              "<Figure size 432x288 with 1 Axes>"
            ]
          },
          "metadata": {
            "tags": [],
            "needs_background": "light"
          }
        }
      ]
    },
    {
      "cell_type": "markdown",
      "metadata": {
        "id": "stuck-exposure"
      },
      "source": [
        "### Computacion de la transformada rapida de Fourier (FFT)"
      ],
      "id": "stuck-exposure"
    },
    {
      "cell_type": "markdown",
      "metadata": {
        "id": "proud-shanghai"
      },
      "source": [
        "La base de todos las librerias para computar la transformada de fourier discreta es el algoritmo de transformada rapida de fourier (FFT). Este algoritmo revoluciono la computacion, pues permite hacer transformadas discretas con una complejidad computacional de nlog(n), en lugar de n^2 que era el caso con una transformada discreta comun. Tanto la libreria numpy, como scipy permiten incorporan metodos para computar la transformada rapida de fourier. Comparemos su desempeño empezando por la fft de scipy. Empecemos con una funcion rect"
      ],
      "id": "proud-shanghai"
    },
    {
      "cell_type": "code",
      "metadata": {
        "colab": {
          "base_uri": "https://localhost:8080/",
          "height": 458
        },
        "id": "color-bread",
        "outputId": "76f6d3fd-9205-45a8-8966-ae76a0e7c29e"
      },
      "source": [
        "Lx=10\n",
        "dx=0.05\n",
        "xmin=-Lx/2\n",
        "xmax=Lx/2\n",
        "fxmax=1/(2*dx)\n",
        "fxmin=-1/(2*dx)\n",
        "dfx=1/Lx\n",
        "\n",
        "plt.rcParams['figure.figsize'] = 10, 3\n",
        "x=np.arange(xmin,xmax,dx)\n",
        "fx=np.arange(fxmin,fxmax,dfx) \n",
        "\n",
        "def rect1d(x,anch,pos):\n",
        "    n=len(x)\n",
        "    R1=np.zeros(n)\n",
        "    R2=np.zeros(n)\n",
        "    R1[x>pos-anch/2]=1\n",
        "    R2[x<pos+anch/2]=1\n",
        "    R=R1*R2\n",
        "    return R\n",
        "\n",
        "y=rect1d(x,2,-0)\n",
        "plt.figure(dpi=150)\n",
        "plt.plot(x,y,label='rect(x) ')\n",
        "  \n",
        "    \n",
        "import scipy.fft as sft    \n",
        "ys=sft.fftshift(y)\n",
        "\n",
        "plt.plot(x,ys,label='rect(x) shift')\n",
        "plt.xlabel('x')\n",
        "plt.ylabel('y')\n",
        "plt.legend(loc='best')"
      ],
      "id": "color-bread",
      "execution_count": null,
      "outputs": [
        {
          "output_type": "execute_result",
          "data": {
            "text/plain": [
              "<matplotlib.legend.Legend at 0x7f5d7b0988d0>"
            ]
          },
          "metadata": {
            "tags": []
          },
          "execution_count": 16
        },
        {
          "output_type": "display_data",
          "data": {
            "image/png": "[encoded data removed]",
            "text/plain": [
              "<Figure size 1500x450 with 1 Axes>"
            ]
          },
          "metadata": {
            "tags": [],
            "needs_background": "light"
          }
        }
      ]
    },
    {
      "cell_type": "code",
      "metadata": {
        "colab": {
          "base_uri": "https://localhost:8080/",
          "height": 452
        },
        "id": "executive-average",
        "outputId": "6b5a8400-3b27-4b41-c548-fb2a7c45df99"
      },
      "source": [
        "fy=sft.fft(y)*dx\n",
        "\n",
        "fig, (ax1, ax2) = plt.subplots(1, 2,dpi=150) \n",
        "ax1.plot(fx,np.abs(fy),linewidth=1)\n",
        "ax1.title.set_text('|G(w)|')\n",
        "ax2.plot(fx,np.angle(fy),linewidth=1)\n",
        "ax2.title.set_text('Fase de G(w)')\n"
      ],
      "id": "executive-average",
      "execution_count": null,
      "outputs": [
        {
          "output_type": "display_data",
          "data": {
            "image/png": "[encoded data removed]",
            "text/plain": [
              "<Figure size 1500x450 with 2 Axes>"
            ]
          },
          "metadata": {
            "tags": [],
            "needs_background": "light"
          }
        }
      ]
    },
    {
      "cell_type": "code",
      "metadata": {
        "colab": {
          "base_uri": "https://localhost:8080/",
          "height": 231
        },
        "id": "acknowledged-commander",
        "outputId": "fc25d6a3-6911-4725-f0a5-8818bc3b7707"
      },
      "source": [
        "fy=sft.fft(ys)*dx\n",
        "\n",
        "fig, (ax1, ax2) = plt.subplots(1, 2,dpi=150) \n",
        "ax1.plot(fx,np.abs(fy),linewidth=1)\n",
        "ax1.title.set_text('|G(w)|')\n",
        "ax2.plot(fx,np.angle(fy),linewidth=1)\n",
        "ax2.title.set_text('Fase de G(w)')"
      ],
      "id": "acknowledged-commander",
      "execution_count": null,
      "outputs": [
        {
          "output_type": "error",
          "ename": "NameError",
          "evalue": "ignored",
          "traceback": [
            "\u001b[0;31m---------------------------------------------------------------------------\u001b[0m",
            "\u001b[0;31mNameError\u001b[0m                                 Traceback (most recent call last)",
            "\u001b[0;32m<ipython-input-2-5e3a7a42a5b2>\u001b[0m in \u001b[0;36m<module>\u001b[0;34m()\u001b[0m\n\u001b[0;32m----> 1\u001b[0;31m \u001b[0mfy\u001b[0m\u001b[0;34m=\u001b[0m\u001b[0msft\u001b[0m\u001b[0;34m.\u001b[0m\u001b[0mfft\u001b[0m\u001b[0;34m(\u001b[0m\u001b[0mys\u001b[0m\u001b[0;34m)\u001b[0m\u001b[0;34m*\u001b[0m\u001b[0mdx\u001b[0m\u001b[0;34m\u001b[0m\u001b[0;34m\u001b[0m\u001b[0m\n\u001b[0m\u001b[1;32m      2\u001b[0m \u001b[0;34m\u001b[0m\u001b[0m\n\u001b[1;32m      3\u001b[0m \u001b[0mfig\u001b[0m\u001b[0;34m,\u001b[0m \u001b[0;34m(\u001b[0m\u001b[0max1\u001b[0m\u001b[0;34m,\u001b[0m \u001b[0max2\u001b[0m\u001b[0;34m)\u001b[0m \u001b[0;34m=\u001b[0m \u001b[0mplt\u001b[0m\u001b[0;34m.\u001b[0m\u001b[0msubplots\u001b[0m\u001b[0;34m(\u001b[0m\u001b[0;36m1\u001b[0m\u001b[0;34m,\u001b[0m \u001b[0;36m2\u001b[0m\u001b[0;34m,\u001b[0m\u001b[0mdpi\u001b[0m\u001b[0;34m=\u001b[0m\u001b[0;36m150\u001b[0m\u001b[0;34m)\u001b[0m\u001b[0;34m\u001b[0m\u001b[0;34m\u001b[0m\u001b[0m\n\u001b[1;32m      4\u001b[0m \u001b[0max1\u001b[0m\u001b[0;34m.\u001b[0m\u001b[0mplot\u001b[0m\u001b[0;34m(\u001b[0m\u001b[0mfx\u001b[0m\u001b[0;34m,\u001b[0m\u001b[0mnp\u001b[0m\u001b[0;34m.\u001b[0m\u001b[0mabs\u001b[0m\u001b[0;34m(\u001b[0m\u001b[0mfy\u001b[0m\u001b[0;34m)\u001b[0m\u001b[0;34m,\u001b[0m\u001b[0mlinewidth\u001b[0m\u001b[0;34m=\u001b[0m\u001b[0;36m1\u001b[0m\u001b[0;34m)\u001b[0m\u001b[0;34m\u001b[0m\u001b[0;34m\u001b[0m\u001b[0m\n\u001b[1;32m      5\u001b[0m \u001b[0max1\u001b[0m\u001b[0;34m.\u001b[0m\u001b[0mtitle\u001b[0m\u001b[0;34m.\u001b[0m\u001b[0mset_text\u001b[0m\u001b[0;34m(\u001b[0m\u001b[0;34m'|G(w)|'\u001b[0m\u001b[0;34m)\u001b[0m\u001b[0;34m\u001b[0m\u001b[0;34m\u001b[0m\u001b[0m\n",
            "\u001b[0;31mNameError\u001b[0m: name 'sft' is not defined"
          ]
        }
      ]
    },
    {
      "cell_type": "code",
      "metadata": {
        "colab": {
          "base_uri": "https://localhost:8080/",
          "height": 231
        },
        "id": "decimal-style",
        "outputId": "9b57fe1e-e77a-441d-e8f7-48fa96a486a9"
      },
      "source": [
        "fy=sft.fftshift(sft.fft(ys)*dx)\n",
        "fya=w*np.sinc(w*fx)\n",
        "\n",
        "fig, (ax1, ax2) = plt.subplots(1, 2,dpi=150) \n",
        "ax1.plot(fx,np.abs(fy),linewidth=1,label='espectro digital')\n",
        "ax1.title.set_text('|G(w)|')\n",
        "ax1.plot(fx,np.abs(fya),linewidth=1,linestyle='--',label='espectro analitico')\n",
        "\n",
        "ax2.plot(fx,np.angle(fy),linewidth=1,label='espectro digital')\n",
        "ax2.plot(fx,np.angle(fya),linewidth=1,linestyle='--',label='espectro analitico')\n",
        "ax2.title.set_text('Fase de G(w)')\n",
        "ax1.legend(loc='best')\n",
        "ax2.legend(loc='best')"
      ],
      "id": "decimal-style",
      "execution_count": null,
      "outputs": [
        {
          "output_type": "error",
          "ename": "NameError",
          "evalue": "ignored",
          "traceback": [
            "\u001b[0;31m---------------------------------------------------------------------------\u001b[0m",
            "\u001b[0;31mNameError\u001b[0m                                 Traceback (most recent call last)",
            "\u001b[0;32m<ipython-input-1-376805c7f4d2>\u001b[0m in \u001b[0;36m<module>\u001b[0;34m()\u001b[0m\n\u001b[0;32m----> 1\u001b[0;31m \u001b[0mfy\u001b[0m\u001b[0;34m=\u001b[0m\u001b[0msft\u001b[0m\u001b[0;34m.\u001b[0m\u001b[0mfftshift\u001b[0m\u001b[0;34m(\u001b[0m\u001b[0msft\u001b[0m\u001b[0;34m.\u001b[0m\u001b[0mfft\u001b[0m\u001b[0;34m(\u001b[0m\u001b[0mys\u001b[0m\u001b[0;34m)\u001b[0m\u001b[0;34m*\u001b[0m\u001b[0mdx\u001b[0m\u001b[0;34m)\u001b[0m\u001b[0;34m\u001b[0m\u001b[0;34m\u001b[0m\u001b[0m\n\u001b[0m\u001b[1;32m      2\u001b[0m \u001b[0mfya\u001b[0m\u001b[0;34m=\u001b[0m\u001b[0mw\u001b[0m\u001b[0;34m*\u001b[0m\u001b[0mnp\u001b[0m\u001b[0;34m.\u001b[0m\u001b[0msinc\u001b[0m\u001b[0;34m(\u001b[0m\u001b[0mw\u001b[0m\u001b[0;34m*\u001b[0m\u001b[0mfx\u001b[0m\u001b[0;34m)\u001b[0m\u001b[0;34m\u001b[0m\u001b[0;34m\u001b[0m\u001b[0m\n\u001b[1;32m      3\u001b[0m \u001b[0;34m\u001b[0m\u001b[0m\n\u001b[1;32m      4\u001b[0m \u001b[0mfig\u001b[0m\u001b[0;34m,\u001b[0m \u001b[0;34m(\u001b[0m\u001b[0max1\u001b[0m\u001b[0;34m,\u001b[0m \u001b[0max2\u001b[0m\u001b[0;34m)\u001b[0m \u001b[0;34m=\u001b[0m \u001b[0mplt\u001b[0m\u001b[0;34m.\u001b[0m\u001b[0msubplots\u001b[0m\u001b[0;34m(\u001b[0m\u001b[0;36m1\u001b[0m\u001b[0;34m,\u001b[0m \u001b[0;36m2\u001b[0m\u001b[0;34m,\u001b[0m\u001b[0mdpi\u001b[0m\u001b[0;34m=\u001b[0m\u001b[0;36m150\u001b[0m\u001b[0;34m)\u001b[0m\u001b[0;34m\u001b[0m\u001b[0;34m\u001b[0m\u001b[0m\n\u001b[1;32m      5\u001b[0m \u001b[0max1\u001b[0m\u001b[0;34m.\u001b[0m\u001b[0mplot\u001b[0m\u001b[0;34m(\u001b[0m\u001b[0mfx\u001b[0m\u001b[0;34m,\u001b[0m\u001b[0mnp\u001b[0m\u001b[0;34m.\u001b[0m\u001b[0mabs\u001b[0m\u001b[0;34m(\u001b[0m\u001b[0mfy\u001b[0m\u001b[0;34m)\u001b[0m\u001b[0;34m,\u001b[0m\u001b[0mlinewidth\u001b[0m\u001b[0;34m=\u001b[0m\u001b[0;36m1\u001b[0m\u001b[0;34m,\u001b[0m\u001b[0mlabel\u001b[0m\u001b[0;34m=\u001b[0m\u001b[0;34m'espectro digital'\u001b[0m\u001b[0;34m)\u001b[0m\u001b[0;34m\u001b[0m\u001b[0;34m\u001b[0m\u001b[0m\n",
            "\u001b[0;31mNameError\u001b[0m: name 'sft' is not defined"
          ]
        }
      ]
    },
    {
      "cell_type": "markdown",
      "metadata": {
        "id": "increasing-barrier"
      },
      "source": [
        "Ahora veamos que ocurre con fft de numpy"
      ],
      "id": "increasing-barrier"
    },
    {
      "cell_type": "code",
      "metadata": {
        "id": "excited-damages"
      },
      "source": [
        "Lx=10\n",
        "dx=0.05\n",
        "xmin=-Lx/2\n",
        "xmax=Lx/2\n",
        "fxmax=1/(2*dx)\n",
        "fxmin=-1/(2*dx)\n",
        "dfx=1/Lx\n",
        "\n",
        "x=np.arange(xmin,xmax,dx)\n",
        "fx=np.arange(fxmin,fxmax,dfx) \n",
        "\n",
        "def rect1d(x,anch,pos):\n",
        "    n=len(x)\n",
        "    R1=np.zeros(n)\n",
        "    R2=np.zeros(n)\n",
        "    R1[x>pos-anch/2]=1\n",
        "    R2[x<pos+anch/2]=1\n",
        "    R=R1*R2\n",
        "    return R\n",
        "\n",
        "w=2\n",
        "\n",
        "y=rect1d(x,w,0)\n",
        "plt.figure(dpi=120)\n",
        "plt.plot(x,y,label='rect(x) ')\n",
        "  \n",
        "    \n",
        "import numpy.fft as nft    \n",
        "ys=sft.fftshift(y)\n",
        "\n",
        "plt.plot(x,ys,label='rect(x) shift')\n",
        "plt.xlabel('x')\n",
        "plt.ylabel('y')\n",
        "plt.legend(loc='best')"
      ],
      "id": "excited-damages",
      "execution_count": null,
      "outputs": []
    },
    {
      "cell_type": "code",
      "metadata": {
        "id": "gorgeous-hobby"
      },
      "source": [
        "fy=nft.fft(y)*dx\n",
        "fig, (ax1, ax2) = plt.subplots(1, 2,dpi=150) \n",
        "ax1.plot(fx,np.abs(fy),linewidth=1)\n",
        "\n",
        "ax1.title.set_text('|G(w)|')\n",
        "ax2.plot(fx,np.angle(fy),linewidth=1)\n",
        "\n",
        "ax2.title.set_text('Fase de G(w)')"
      ],
      "id": "gorgeous-hobby",
      "execution_count": null,
      "outputs": []
    },
    {
      "cell_type": "code",
      "metadata": {
        "id": "applicable-logic"
      },
      "source": [
        "fy=nft.fft(ys)*dx\n",
        "\n",
        "fig, (ax1, ax2) = plt.subplots(1, 2,dpi=150) \n",
        "ax1.plot(fx,np.abs(fy),linewidth=1)\n",
        "ax1.title.set_text('|G(w)|')\n",
        "ax2.plot(fx,np.angle(fy),linewidth=1)\n",
        "ax2.title.set_text('Fase de G(w)')"
      ],
      "id": "applicable-logic",
      "execution_count": null,
      "outputs": []
    },
    {
      "cell_type": "code",
      "metadata": {
        "id": "solved-orlando"
      },
      "source": [
        "fy=nft.fftshift(nft.fft(ys)*dx)\n",
        "\n",
        "fya=w*np.sinc(w*fx)\n",
        "fig, (ax1, ax2) = plt.subplots(1, 2,dpi=150) \n",
        "ax1.plot(fx,np.abs(fy),linewidth=1)\n",
        "ax1.plot(fx,np.abs(fya),linewidth=1,linestyle='--')\n",
        "ax1.title.set_text('|G(w)|')\n",
        "ax2.plot(fx,np.angle(fy),linewidth=1,)\n",
        "ax2.plot(fx,np.angle(fya),linewidth=1,linestyle='--')\n",
        "ax2.title.set_text('Fase de G(w)')"
      ],
      "id": "solved-orlando",
      "execution_count": null,
      "outputs": []
    },
    {
      "cell_type": "markdown",
      "metadata": {
        "id": "flying-mortgage"
      },
      "source": [
        "Como se puede ver, la fft de numpy presenta inestabilidad en la fase. Por este motivo es preferible la fft de scipy. Otro ejemplo, veamos como es el tiempo de computo para cada caso"
      ],
      "id": "flying-mortgage"
    },
    {
      "cell_type": "code",
      "metadata": {
        "id": "frequent-cassette"
      },
      "source": [
        "s=2**16\n",
        "\n",
        "\n",
        "x=np.random.rand(s)\n",
        "\n",
        "print(len(x),x.dtype)\n",
        "import timeit\n",
        "\n",
        "def testnumpy():\n",
        "    fx=nft.fft(x)\n",
        "    \n",
        "a=timeit.timeit(testnumpy, number=100)\n",
        "print('Computacion con numpy:',a/100,'s')  \n",
        "\n",
        "def testsci():\n",
        "    fx=sft.fft(x)\n",
        "    \n",
        "a=timeit.timeit(testsci, number=100)\n",
        "print('Computacion con scipy:',a/100,'s')  \n"
      ],
      "id": "frequent-cassette",
      "execution_count": null,
      "outputs": []
    },
    {
      "cell_type": "markdown",
      "metadata": {
        "id": "closing-wallet"
      },
      "source": [
        "En general, la fft de scipy es mucho mas rapida, especialmente cuando la entrada es real."
      ],
      "id": "closing-wallet"
    },
    {
      "cell_type": "markdown",
      "metadata": {
        "id": "quality-valuable"
      },
      "source": [
        "### FFT 2D\n",
        "\n",
        "Ya vimos como crear espacios coordenados en 2D con meshgrid, asi que podemos computar la fft y graficar en dos dimensiones con facilidad. "
      ],
      "id": "quality-valuable"
    },
    {
      "cell_type": "code",
      "metadata": {
        "id": "experimental-reception"
      },
      "source": [
        "Lx=10\n",
        "dx=0.02\n",
        "xmin=-Lx/2\n",
        "xmax=Lx/2\n",
        "fxmax=1/(2*dx)\n",
        "fxmin=-1/(2*dx)\n",
        "dfx=1/Lx\n",
        "\n",
        "\n",
        "Ly=10\n",
        "dy=0.02\n",
        "ymin=-Ly/2\n",
        "ymax=Ly/2\n",
        "fymax=1/(2*dy)\n",
        "fymin=-1/(2*dy)\n",
        "dfy=1/L\n",
        "\n",
        "x=np.arange(xmin,xmax,dx)\n",
        "y=np.arange(ymin,ymax,dy)\n",
        "\n",
        "xx, yy=np.meshgrid(x,y)\n",
        "\n",
        "fx=np.arange(fxmin,fxmax,dfx) \n",
        "fy=np.arange(fymin,fymax,dfy) \n",
        "\n",
        "fxx, fyy=np.meshgrid(fx,fy)"
      ],
      "id": "experimental-reception",
      "execution_count": null,
      "outputs": []
    },
    {
      "cell_type": "markdown",
      "metadata": {
        "id": "emotional-blast"
      },
      "source": [
        "Definamos la funcion rect2d"
      ],
      "id": "emotional-blast"
    },
    {
      "cell_type": "code",
      "metadata": {
        "id": "distinguished-aluminum"
      },
      "source": [
        "R=np.zeros([1,len(x)])\n",
        "R[0,:]=rect1d(x,0.5,0)\n",
        "\n",
        "z=R.T@R\n",
        "\n",
        "plt.rcParams['figure.figsize'] = 5, 5\n",
        "plt.contourf(x,y,z)\n"
      ],
      "id": "distinguished-aluminum",
      "execution_count": null,
      "outputs": []
    },
    {
      "cell_type": "code",
      "metadata": {
        "id": "greatest-grill"
      },
      "source": [
        "zs=sft.fftshift(z)\n",
        "plt.contourf(x,y,zs)"
      ],
      "id": "greatest-grill",
      "execution_count": null,
      "outputs": []
    },
    {
      "cell_type": "code",
      "metadata": {
        "id": "growing-college"
      },
      "source": [
        "fz=sft.fft2(z)*dx*dy\n",
        "\n",
        "\n",
        "plt.rcParams['figure.figsize'] = 10, 5\n",
        "\n",
        "fig = plt.figure()\n",
        "ax = fig.add_subplot(1, 2, 1, projection='3d')\n",
        "\n",
        "ax.plot_surface(fxx,fyy,np.abs(fz))\n",
        "ax.title.set_text('|G(w)|')\n",
        "\n",
        "ax = fig.add_subplot(1, 2,2)\n",
        "ax.contourf(fx,fy,np.angle(fz))\n",
        "ax.title.set_text('Fase de G(w)')\n",
        "plt.show()"
      ],
      "id": "growing-college",
      "execution_count": null,
      "outputs": []
    },
    {
      "cell_type": "code",
      "metadata": {
        "id": "greatest-state"
      },
      "source": [
        "fz=sft.fft2(zs)*dx*dy\n",
        "\n",
        "\n",
        "plt.rcParams['figure.figsize'] = 10, 5\n",
        "\n",
        "fig = plt.figure()\n",
        "ax = fig.add_subplot(1, 2, 1, projection='3d')\n",
        "\n",
        "ax.plot_surface(fxx,fyy,np.abs(fz))\n",
        "ax.title.set_text('|G(w)|')\n",
        "\n",
        "ax = fig.add_subplot(1, 2,2)\n",
        "ax.contourf(fx,fy,np.angle(fz))\n",
        "ax.title.set_text('Fase de G(w)')\n",
        "plt.show()"
      ],
      "id": "greatest-state",
      "execution_count": null,
      "outputs": []
    },
    {
      "cell_type": "code",
      "metadata": {
        "id": "external-image"
      },
      "source": [
        "fz=sft.fftshift(sft.fft2(zs)*dx*dy)\n",
        "\n",
        "\n",
        "plt.rcParams['figure.figsize'] = 10, 5\n",
        "\n",
        "fig = plt.figure()\n",
        "ax = fig.add_subplot(1, 2, 1, projection='3d')\n",
        "\n",
        "ax.plot_surface(fxx,fyy,np.abs(fz))\n",
        "ax.title.set_text('|G(w)|')\n",
        "\n",
        "ax = fig.add_subplot(1, 2,2)\n",
        "ax.contourf(fx,fy,np.angle(fz))\n",
        "ax.title.set_text('Fase de G(w)')\n",
        "plt.show()"
      ],
      "id": "external-image",
      "execution_count": null,
      "outputs": []
    },
    {
      "cell_type": "markdown",
      "metadata": {
        "id": "guided-transsexual"
      },
      "source": [
        "### Convolucion 2D\n",
        "\n",
        "Ahora veamos la convolucion de dos funciones 2D, una gaussiana y una rect"
      ],
      "id": "guided-transsexual"
    },
    {
      "cell_type": "code",
      "metadata": {
        "id": "found-senate"
      },
      "source": [
        "def gaussiana(x, amp, cen,anc):\n",
        "    return amp*np.exp(-(x-cen)**2/anc)\n",
        "\n",
        "Lx=10\n",
        "dx=0.02\n",
        "xmin=-Lx/2\n",
        "xmax=Lx/2\n",
        "fxmax=1/(2*dx)\n",
        "fxmin=-1/(2*dx)\n",
        "dfx=1/Lx\n",
        "\n",
        "\n",
        "Ly=10\n",
        "dy=0.02\n",
        "ymin=-Ly/2\n",
        "ymax=Ly/2\n",
        "fymax=1/(2*dy)\n",
        "fymin=-1/(2*dy)\n",
        "dfy=1/L\n",
        "\n",
        "x=np.arange(xmin,xmax,dx)\n",
        "y=np.arange(ymin,ymax,dy)\n",
        "\n",
        "xx, yy=np.meshgrid(x,y)\n",
        "\n",
        "fx=np.arange(fxmin,fxmax,dfx) \n",
        "fy=np.arange(fymin,fymax,dfy) \n",
        "\n",
        "fxx, fyy=np.meshgrid(fx,fy)\n",
        "\n",
        "R=np.zeros([1,len(x)])\n",
        "R[0,:]=rect1d(x,4,0)\n",
        "z1=R.T@R\n",
        "\n",
        "Rx=np.zeros([1,len(x)])\n",
        "Rx[0,:]=gaussiana(x,1,0,0.5)\n",
        "Ry=np.zeros([1,len(x)])\n",
        "Ry[0,:]=gaussiana(y,1,0,0.5)\n",
        "z2=Rx.T@Ry\n",
        "\n",
        "\n",
        "plt.rcParams['figure.figsize'] = 10, 5\n",
        "\n",
        "fig = plt.figure(dpi=100)\n",
        "ax = fig.add_subplot(1, 2, 1, projection='3d')\n",
        "\n",
        "ax.plot_surface(xx,yy,z1)\n",
        "ax.title.set_text('z1')\n",
        "\n",
        "ax = fig.add_subplot(1, 2,2, projection='3d')\n",
        "ax.plot_surface(xx,yy,z2)\n",
        "ax.title.set_text('z2')\n",
        "plt.show()"
      ],
      "id": "found-senate",
      "execution_count": null,
      "outputs": []
    },
    {
      "cell_type": "code",
      "metadata": {
        "id": "minus-trail"
      },
      "source": [
        "fz1=sft.fftshift(sft.fft2(sft.fftshift(z1)))\n",
        "fz2=sft.fftshift(sft.fft2(sft.fftshift(z2)))\n",
        "\n",
        "ff=fz1*fz2\n",
        "\n",
        "rz=sft.fftshift(sft.ifft2(sft.fftshift(ff)))*dx*dy\n",
        "\n",
        "\n",
        "fig = plt.figure(dpi=100)\n",
        "ax = fig.add_subplot(1, 2, 1, projection='3d')\n",
        "\n",
        "ax.plot_surface(xx,yy,np.abs(rz))\n",
        "ax.title.set_text('convolucion')\n",
        "\n",
        "ax = fig.add_subplot(1, 2,2)\n",
        "ax.contourf(x,y,np.angle(rz))\n",
        "ax.title.set_text('fase de la convolucion')\n",
        "plt.show()\n"
      ],
      "id": "minus-trail",
      "execution_count": null,
      "outputs": []
    },
    {
      "cell_type": "markdown",
      "metadata": {
        "id": "solved-record"
      },
      "source": [
        "Otro ejemplo es el desplazamiento. Consideremos la convolucion de una funcion rect y una delta"
      ],
      "id": "solved-record"
    },
    {
      "cell_type": "code",
      "metadata": {
        "id": "square-going"
      },
      "source": [
        "def fusion(M1,M2,x,y):\n",
        "    (m,n)=M1.shape\n",
        "    (mm,nn)=M2.shape\n",
        "    if mm>m or nn>n:\n",
        "        raise ValueError('La matriz a instertar debe ser mas pequeña que la original')\n",
        "    M1[np.int32(np.ceil((m-mm)*0.5)+y):np.int32(np.ceil((m+mm)*0.5)+y),np.int32(np.ceil((n-nn)*0.5)+x):np.int32(np.ceil((m+nn)*0.5)+x)]=M2\n",
        "    MC=np.copy(M1)\n",
        "    return MC\n",
        "\n",
        "x=np.arange(xmin,xmax,dx)\n",
        "y=np.arange(ymin,ymax,dy)\n",
        "\n",
        "xx, yy=np.meshgrid(x,y)\n",
        "\n",
        "fx=np.arange(fxmin,fxmax,dfx) \n",
        "fy=np.arange(fymin,fymax,dfy) \n",
        "\n",
        "fxx, fyy=np.meshgrid(fx,fy)"
      ],
      "id": "square-going",
      "execution_count": null,
      "outputs": []
    },
    {
      "cell_type": "code",
      "metadata": {
        "id": "perfect-bedroom"
      },
      "source": [
        "R=np.zeros([1,len(x)])\n",
        "R[0,:]=rect1d(x,4,0)\n",
        "z1=R.T@R\n",
        "\n",
        "z2=np.zeros((len(x),len(y)))\n",
        "z2=fusion(z2,np.ones((1,1)),-50,50)\n",
        "\n",
        "\n",
        "\n",
        "fig = plt.figure(dpi=100)\n",
        "ax = fig.add_subplot(1, 2, 1, projection='3d')\n",
        "\n",
        "ax.plot_surface(xx,yy,z1)\n",
        "ax.title.set_text('z1')\n",
        "\n",
        "ax = fig.add_subplot(1, 2,2, projection='3d')\n",
        "ax.plot_surface(xx,yy,z2)\n",
        "ax.title.set_text('z2')\n",
        "plt.show()"
      ],
      "id": "perfect-bedroom",
      "execution_count": null,
      "outputs": []
    },
    {
      "cell_type": "code",
      "metadata": {
        "id": "cutting-custom"
      },
      "source": [
        "fz1=sft.fftshift(sft.fft2(sft.fftshift(z1)))\n",
        "fz2=sft.fftshift(sft.fft2(sft.fftshift(z2)))\n",
        "\n",
        "fig = plt.figure(dpi=100)\n",
        "ax = fig.add_subplot(1, 2, 1, projection='3d')\n",
        "\n",
        "ax.plot_surface(xx,yy,np.abs(fz2))\n",
        "ax.title.set_text('|F{Z2}|')\n",
        "\n",
        "ax = fig.add_subplot(1, 2,2)\n",
        "ax.contourf(fx,fy,np.angle(fz2))\n",
        "ax.title.set_text('fase F{z2}')\n",
        "plt.show()"
      ],
      "id": "cutting-custom",
      "execution_count": null,
      "outputs": []
    },
    {
      "cell_type": "code",
      "metadata": {
        "id": "robust-melbourne"
      },
      "source": [
        "ff=fz1*fz2\n",
        "\n",
        "rz=sft.fftshift(sft.ifft2(sft.fftshift(ff)))*dx*dy\n",
        "\n",
        "\n",
        "fig = plt.figure(dpi=100)\n",
        "ax = fig.add_subplot(1, 2, 1, projection='3d')\n",
        "\n",
        "ax.plot_surface(xx,yy,np.abs(rz))\n",
        "ax.title.set_text('convolucion')\n",
        "\n",
        "ax = fig.add_subplot(1, 2,2)\n",
        "ax.contourf(x,y,np.angle(rz))\n",
        "ax.title.set_text('fase de la convolucion')\n",
        "plt.show()"
      ],
      "id": "robust-melbourne",
      "execution_count": null,
      "outputs": []
    },
    {
      "cell_type": "code",
      "metadata": {
        "id": "centered-rough"
      },
      "source": [
        ""
      ],
      "id": "centered-rough",
      "execution_count": null,
      "outputs": []
    }
  ]
}